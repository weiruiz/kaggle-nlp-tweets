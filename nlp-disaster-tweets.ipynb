{
 "cells": [
  {
   "cell_type": "code",
   "execution_count": 6,
   "id": "ecd0193b",
   "metadata": {},
   "outputs": [],
   "source": [
    "import numpy as np\n",
    "import pandas as pd\n",
    "from sklearn import feature_extraction, linear_model, model_selection, preprocessing\n",
    "import tensorflow as tf\n",
    "from tensorflow import keras\n",
    "from tensorflow.keras import layers"
   ]
  },
  {
   "cell_type": "code",
   "execution_count": 53,
   "id": "a01786ec",
   "metadata": {},
   "outputs": [],
   "source": [
    "train_df = pd.read_csv('train.csv')\n",
    "test_df = pd.read_csv('test.csv')"
   ]
  },
  {
   "cell_type": "code",
   "execution_count": 54,
   "id": "cb0a1bfc",
   "metadata": {},
   "outputs": [
    {
     "data": {
      "text/plain": [
       "\"What's up man?\""
      ]
     },
     "execution_count": 54,
     "metadata": {},
     "output_type": "execute_result"
    }
   ],
   "source": [
    "train_df[train_df['target']==0]['text'].values[0]"
   ]
  },
  {
   "cell_type": "code",
   "execution_count": 55,
   "id": "e77320d2",
   "metadata": {},
   "outputs": [
    {
     "data": {
      "text/plain": [
       "'Our Deeds are the Reason of this #earthquake May ALLAH Forgive us all'"
      ]
     },
     "execution_count": 55,
     "metadata": {},
     "output_type": "execute_result"
    }
   ],
   "source": [
    "train_df[train_df['target']==1]['text'].values[0]"
   ]
  },
  {
   "cell_type": "code",
   "execution_count": 56,
   "id": "a52dc0af",
   "metadata": {},
   "outputs": [],
   "source": [
    "count_vectorizer = feature_extraction.text.CountVectorizer()"
   ]
  },
  {
   "cell_type": "code",
   "execution_count": 57,
   "id": "474a43e9",
   "metadata": {},
   "outputs": [],
   "source": [
    "train_df = train_df.sample(frac=1)\n",
    "test_df = test_df.sample(frac=1)"
   ]
  },
  {
   "cell_type": "code",
   "execution_count": 58,
   "id": "502756e6",
   "metadata": {},
   "outputs": [],
   "source": [
    "train_vectors = count_vectorizer.fit_transform(train_df[\"text\"])\n",
    "test_vectors = count_vectorizer.transform(test_df[\"text\"])"
   ]
  },
  {
   "cell_type": "code",
   "execution_count": 59,
   "id": "748aef8d",
   "metadata": {},
   "outputs": [
    {
     "name": "stdout",
     "output_type": "stream",
     "text": [
      "(1, 21637)\n",
      "(1, 21637)\n"
     ]
    }
   ],
   "source": [
    "print(train_vectors[0].todense().shape)\n",
    "print(test_vectors[0].todense().shape)"
   ]
  },
  {
   "cell_type": "code",
   "execution_count": 97,
   "id": "beaf1316",
   "metadata": {},
   "outputs": [],
   "source": [
    "VOCAB_SIZE = 1000\n",
    "encoder = tf.keras.layers.TextVectorization(max_tokens=VOCAB_SIZE)\n",
    "encoder.adapt(train_df[train_df['target']==1]['text'].values)"
   ]
  },
  {
   "cell_type": "code",
   "execution_count": 98,
   "id": "df0894bf",
   "metadata": {},
   "outputs": [],
   "source": [
    "model = tf.keras.Sequential([\n",
    "    encoder,\n",
    "    tf.keras.layers.Embedding(\n",
    "        input_dim=len(encoder.get_vocabulary()),\n",
    "        output_dim=64,\n",
    "        # Use masking to handle the variable sequence lengths\n",
    "        mask_zero=True),\n",
    "    tf.keras.layers.Bidirectional(tf.keras.layers.LSTM(64)),\n",
    "    tf.keras.layers.Dense(64, activation='relu'),\n",
    "    tf.keras.layers.Dense(1)\n",
    "])"
   ]
  },
  {
   "cell_type": "code",
   "execution_count": 99,
   "id": "d1beaa6b",
   "metadata": {},
   "outputs": [],
   "source": [
    "model.compile(loss=tf.keras.losses.BinaryCrossentropy(from_logits=True),\n",
    "              optimizer=tf.keras.optimizers.Adam(1e-4),\n",
    "              metrics=['accuracy'])"
   ]
  },
  {
   "cell_type": "code",
   "execution_count": 100,
   "id": "d8a23b00",
   "metadata": {},
   "outputs": [
    {
     "name": "stdout",
     "output_type": "stream",
     "text": [
      "Epoch 1/10\n",
      "96/96 [==============================] - 7s 23ms/step - loss: 0.6855 - accuracy: 0.5670 - val_loss: 0.6717 - val_accuracy: 0.5837\n",
      "Epoch 2/10\n",
      "96/96 [==============================] - 1s 7ms/step - loss: 0.6574 - accuracy: 0.5670 - val_loss: 0.6311 - val_accuracy: 0.5837\n",
      "Epoch 3/10\n",
      "96/96 [==============================] - 1s 7ms/step - loss: 0.5908 - accuracy: 0.6010 - val_loss: 0.5347 - val_accuracy: 0.7413\n",
      "Epoch 4/10\n",
      "96/96 [==============================] - 1s 7ms/step - loss: 0.4963 - accuracy: 0.7668 - val_loss: 0.4778 - val_accuracy: 0.7859\n",
      "Epoch 5/10\n",
      "96/96 [==============================] - 1s 7ms/step - loss: 0.4538 - accuracy: 0.7946 - val_loss: 0.4601 - val_accuracy: 0.7984\n",
      "Epoch 6/10\n",
      "96/96 [==============================] - 1s 7ms/step - loss: 0.4264 - accuracy: 0.8097 - val_loss: 0.4486 - val_accuracy: 0.7984\n",
      "Epoch 7/10\n",
      "96/96 [==============================] - 1s 8ms/step - loss: 0.4107 - accuracy: 0.8190 - val_loss: 0.4490 - val_accuracy: 0.8155\n",
      "Epoch 8/10\n",
      "96/96 [==============================] - 1s 7ms/step - loss: 0.3951 - accuracy: 0.8253 - val_loss: 0.4487 - val_accuracy: 0.8135\n",
      "Epoch 9/10\n",
      "96/96 [==============================] - 1s 7ms/step - loss: 0.3848 - accuracy: 0.8305 - val_loss: 0.4573 - val_accuracy: 0.8162\n",
      "Epoch 10/10\n",
      "96/96 [==============================] - 1s 7ms/step - loss: 0.3771 - accuracy: 0.8343 - val_loss: 0.4518 - val_accuracy: 0.8155\n"
     ]
    }
   ],
   "source": [
    "history = model.fit(x = train_df['text'].values,\n",
    "                    y = train_df['target'].values,\n",
    "                    batch_size = 64,\n",
    "                    epochs=10,\n",
    "                    verbose = 1,\n",
    "                    validation_split=0.2)"
   ]
  },
  {
   "cell_type": "code",
   "execution_count": 101,
   "id": "b93901b4",
   "metadata": {},
   "outputs": [
    {
     "name": "stdout",
     "output_type": "stream",
     "text": [
      "51/51 [==============================] - 2s 2ms/step\n"
     ]
    }
   ],
   "source": [
    "test_target = model.predict(\n",
    "    test_df['text'].values,\n",
    "    batch_size=64,\n",
    "    verbose=1)"
   ]
  },
  {
   "cell_type": "code",
   "execution_count": 102,
   "id": "95145493",
   "metadata": {},
   "outputs": [],
   "source": [
    "pd.DataFrame(history.history).to_csv('history.csv')"
   ]
  },
  {
   "cell_type": "code",
   "execution_count": 103,
   "id": "6ba8b0a0",
   "metadata": {},
   "outputs": [],
   "source": [
    "predictions = []\n",
    "for target in test_target:\n",
    "    if target >= 0.5:\n",
    "        predictions.append(1)\n",
    "    else:\n",
    "        predictions.append(0)"
   ]
  },
  {
   "cell_type": "code",
   "execution_count": 106,
   "id": "d459b14b",
   "metadata": {},
   "outputs": [],
   "source": [
    "submission = test_df.copy()\n",
    "submission['target'] = predictions\n",
    "submission[['id','target']].to_csv('submission.csv',index=False)"
   ]
  },
  {
   "cell_type": "code",
   "execution_count": 6,
   "id": "99d33b33",
   "metadata": {},
   "outputs": [],
   "source": [
    "import matplotlib.pyplot as plt\n",
    "\n",
    "def plot_graphs(history, metric):\n",
    "  plt.plot(history[metric])\n",
    "  plt.plot(history['val_'+metric], '')\n",
    "  plt.xlabel(\"Epochs\")\n",
    "  plt.ylabel(metric)\n",
    "  plt.legend([metric, 'val_'+metric])"
   ]
  },
  {
   "cell_type": "code",
   "execution_count": 7,
   "id": "46d85e0b",
   "metadata": {},
   "outputs": [
    {
     "data": {
      "image/png": "[encoded data removed]",
      "text/plain": [
       "<Figure size 432x288 with 1 Axes>"
      ]
     },
     "metadata": {
      "needs_background": "light"
     },
     "output_type": "display_data"
    }
   ],
   "source": [
    "history = pd.read_csv('history.csv')\n",
    "plot_graphs(history, 'accuracy')"
   ]
  }
 ],
 "metadata": {
  "kernelspec": {
   "display_name": "Python 3.9.4 64-bit",
   "language": "python",
   "name": "python3"
  },
  "language_info": {
   "codemirror_mode": {
    "name": "ipython",
    "version": 3
   },
   "file_extension": ".py",
   "mimetype": "text/x-python",
   "name": "python",
   "nbconvert_exporter": "python",
   "pygments_lexer": "ipython3",
   "version": "3.9.4"
  },
  "vscode": {
   "interpreter": {
    "hash": "7812ea015bdcee6f23a998adcdd2ef97c151c0c241b7b7070987d9313e41299d"
   }
  }
 },
 "nbformat": 4,
 "nbformat_minor": 5
}
